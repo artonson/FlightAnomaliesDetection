{
 "cells": [
  {
   "cell_type": "code",
   "execution_count": null,
   "metadata": {},
   "outputs": [],
   "source": [
    "import numpy as np\n",
    "import scipy.stats as sps\n",
    "import pandas as pd\n",
    "from gaussian_mixture_anomaly_detection import GaussianMixtureInTimeAnomalyDetector\n",
    "from gaussian_mixture_anomaly_detection import extract_anomaly_target\n",
    "import matplotlib.pyplot as plt\n",
    "%matplotlib inline"
   ]
  },
  {
   "cell_type": "markdown",
   "metadata": {},
   "source": [
    "простой пример: 10 двумерных временных рядов по 10 элементов в каждом,лежащие на 3x=2y со случайным нормальным смещением, а также 4 аномальные точки"
   ]
  },
  {
   "cell_type": "code",
   "execution_count": null,
   "metadata": {
    "collapsed": true
   },
   "outputs": [],
   "source": [
    "T = 10\n",
    "F = 40\n",
    "N = 2\n",
    "\n",
    "data = np.zeros((F, T, N))\n",
    "\n",
    "for i in range(F):\n",
    "    for t in range(T):\n",
    "        data[i][t] = np.array([2,3]) * t + sps.norm.rvs(size=2,scale=0.5)\n",
    "        \n",
    "anomalies = [(0,5,0), (1,3,1), (1,4,1), (2,8,1), (3,2,0)]\n",
    "for a in anomalies:\n",
    "    data[a[0]][a[1]][a[2]] += 5"
   ]
  },
  {
   "cell_type": "code",
   "execution_count": null,
   "metadata": {},
   "outputs": [],
   "source": [
    "for i in range(F):\n",
    "    plt.plot(data[i][:, 0], data[i][:, 1], '*')"
   ]
  },
  {
   "cell_type": "code",
   "execution_count": null,
   "metadata": {},
   "outputs": [],
   "source": [
    "detector = GaussianMixtureInTimeAnomalyDetector(n_components=10, random_state=1)"
   ]
  },
  {
   "cell_type": "code",
   "execution_count": null,
   "metadata": {},
   "outputs": [],
   "source": [
    "scores = detector.fit(data)  # scores  - лограифмическое правдоподобие нормальности для каждого сэмпла"
   ]
  },
  {
   "cell_type": "markdown",
   "metadata": {},
   "source": [
    "выявление аномальных сэмплов:"
   ]
  },
  {
   "cell_type": "code",
   "execution_count": null,
   "metadata": {},
   "outputs": [],
   "source": [
    "detector.find_anomalies(scores, log_likelihood_threshold=0)"
   ]
  },
  {
   "cell_type": "code",
   "execution_count": null,
   "metadata": {},
   "outputs": [],
   "source": [
    "detector.find_anomalies(scores, anomaly_top=0.05)"
   ]
  },
  {
   "cell_type": "markdown",
   "metadata": {},
   "source": [
    "как видно аномалии попали в топ 5%"
   ]
  },
  {
   "cell_type": "code",
   "execution_count": null,
   "metadata": {},
   "outputs": [],
   "source": [
    "detector.find_anomalies(scores, anomaly_top=0.1, strategy='series')"
   ]
  },
  {
   "cell_type": "markdown",
   "metadata": {},
   "source": [
    "2 ряда с добавленными аномалиями попали в топ по сумме логорифимических правдоподобий"
   ]
  },
  {
   "cell_type": "code",
   "execution_count": null,
   "metadata": {},
   "outputs": [],
   "source": [
    "for f in range(F):\n",
    "    plt.plot(range(T), scores[f],'*')\n",
    "    plt.plot([-1, 10], [0,0],'r')\n",
    "    plt.xlim([-0.5, 9.5])\n",
    "    plt.show()"
   ]
  },
  {
   "cell_type": "code",
   "execution_count": null,
   "metadata": {},
   "outputs": [],
   "source": [
    "smoothed_scores = detector.smoothed_sample_anomalies(scores, halflife=2)"
   ]
  },
  {
   "cell_type": "code",
   "execution_count": null,
   "metadata": {},
   "outputs": [],
   "source": [
    "for f in range(F):\n",
    "    plt.plot(range(T), smoothed_scores[f],'*')\n",
    "    plt.plot([-1, 10], [0,0],'r')\n",
    "    plt.xlim([-0.5, 9.5])\n",
    "    plt.show()"
   ]
  },
  {
   "cell_type": "code",
   "execution_count": null,
   "metadata": {},
   "outputs": [],
   "source": [
    "targets =  extract_anomaly_target(pd.DataFrame(data.reshape(40 * 10, 2)), 40, 1, 2, 10, 0.01)\n",
    "smoothed_scores = detector.smoothed_sample_anomalies(scores)"
   ]
  },
  {
   "cell_type": "code",
   "execution_count": null,
   "metadata": {},
   "outputs": [],
   "source": [
    "targets2d = targets.reshape((40,10))\n",
    "for f in range(F):\n",
    "    plt.plot(range(T), smoothed_scores[f],'*')\n",
    "    plt.plot([-1, 10], [0,0],'r')\n",
    "    plt.xlim([-0.5, 9.5])\n",
    "    plt.show()\n",
    "    print(targets2d[f])"
   ]
  },
  {
   "cell_type": "code",
   "execution_count": null,
   "metadata": {
    "collapsed": true
   },
   "outputs": [],
   "source": []
  }
 ],
 "metadata": {
  "kernelspec": {
   "display_name": "Python [conda root]",
   "language": "python",
   "name": "conda-root-py"
  },
  "language_info": {
   "codemirror_mode": {
    "name": "ipython",
    "version": 3
   },
   "file_extension": ".py",
   "mimetype": "text/x-python",
   "name": "python",
   "nbconvert_exporter": "python",
   "pygments_lexer": "ipython3",
   "version": "3.6.3"
  }
 },
 "nbformat": 4,
 "nbformat_minor": 2
}
