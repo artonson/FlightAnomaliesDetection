{
 "cells": [
  {
   "cell_type": "code",
   "execution_count": 1,
   "metadata": {
    "collapsed": true
   },
   "outputs": [],
   "source": [
    "import numpy as np\n",
    "import scipy.stats as sps\n",
    "import pandas as pd\n",
    "from gaussian_mixture_anomaly_detection import GaussianMixtureInTimeAnomalyDetector\n",
    "import matplotlib.pyplot as plt\n",
    "%matplotlib inline"
   ]
  },
  {
   "cell_type": "markdown",
   "metadata": {},
   "source": [
    "простой пример: 10 двумерных временных рядов по 10 элементов в каждом,лежащие на 3x=2y со случайным нормальным смещением, а также 4 аномальные точки"
   ]
  },
  {
   "cell_type": "code",
   "execution_count": 2,
   "metadata": {
    "collapsed": true
   },
   "outputs": [],
   "source": [
    "T = 10\n",
    "F = 10\n",
    "N = 2\n",
    "\n",
    "data = np.zeros((F, T, N))\n",
    "\n",
    "for i in range(F):\n",
    "    for t in range(T):\n",
    "        data[i][t] = np.array([2,3]) * t + sps.norm.rvs(size=2,scale=0.5)\n",
    "        \n",
    "anomalies = [(0,5,0), (1,3,1), (1,4,1), (2,8,1), (3,2,0)]\n",
    "for a in anomalies:\n",
    "    data[a[0]][a[1]][a[2]] += 5"
   ]
  },
  {
   "cell_type": "code",
   "execution_count": 3,
   "metadata": {},
   "outputs": [
    {
     "data": {
      "image/png": "[encoded data removed]",
      "text/plain": [
       "<matplotlib.figure.Figure at 0x1170f65f8>"
      ]
     },
     "metadata": {},
     "output_type": "display_data"
    }
   ],
   "source": [
    "for i in range(F):\n",
    "    plt.plot(data[i][:, 0], data[i][:, 1], '*')"
   ]
  },
  {
   "cell_type": "code",
   "execution_count": 4,
   "metadata": {
    "collapsed": true
   },
   "outputs": [],
   "source": [
    "detector = GaussianMixtureInTimeAnomalyDetector(n_components=10, random_state=1)"
   ]
  },
  {
   "cell_type": "code",
   "execution_count": 5,
   "metadata": {
    "collapsed": true
   },
   "outputs": [],
   "source": [
    "scores = detector.fit(data)  # scores  - лограифмическое правдоподобие нормальности для каждого сэмпла"
   ]
  },
  {
   "cell_type": "markdown",
   "metadata": {},
   "source": [
    "выявление аномальных сэмплов:"
   ]
  },
  {
   "cell_type": "code",
   "execution_count": 6,
   "metadata": {},
   "outputs": [
    {
     "data": {
      "text/plain": [
       "([(-8.0358799132089835, (0, 5)),\n",
       "  (-6.9099386549127981, (1, 4)),\n",
       "  (-6.7780032864341297, (3, 2)),\n",
       "  (-5.5598215129946267, (2, 8)),\n",
       "  (-4.9927959029838149, (1, 3))],\n",
       " 0)"
      ]
     },
     "execution_count": 6,
     "metadata": {},
     "output_type": "execute_result"
    }
   ],
   "source": [
    "detector.find_anomalies(scores, log_likelihood_threshold=0)"
   ]
  },
  {
   "cell_type": "code",
   "execution_count": 7,
   "metadata": {},
   "outputs": [
    {
     "data": {
      "text/plain": [
       "([(-8.0358799132089835, (0, 5)),\n",
       "  (-6.9099386549127981, (1, 4)),\n",
       "  (-6.7780032864341297, (3, 2)),\n",
       "  (-5.5598215129946267, (2, 8)),\n",
       "  (-4.9927959029838149, (1, 3)),\n",
       "  (0.73911799009995383, (2, 2))],\n",
       " 0.73911799009995383)"
      ]
     },
     "execution_count": 7,
     "metadata": {},
     "output_type": "execute_result"
    }
   ],
   "source": [
    "detector.find_anomalies(scores, anomaly_top=0.05)"
   ]
  },
  {
   "cell_type": "markdown",
   "metadata": {},
   "source": [
    "как видно аномалии попали в топ 5%"
   ]
  },
  {
   "cell_type": "code",
   "execution_count": 8,
   "metadata": {},
   "outputs": [
    {
     "data": {
      "text/plain": [
       "([(11.652181285701431, 1), (13.876989533709455, 0)], 13.876989533709455)"
      ]
     },
     "execution_count": 8,
     "metadata": {},
     "output_type": "execute_result"
    }
   ],
   "source": [
    "detector.find_anomalies(scores, anomaly_top=0.1, strategy='series')"
   ]
  },
  {
   "cell_type": "markdown",
   "metadata": {},
   "source": [
    "2 ряда с добавленными аномалиями попали в топ по сумме логорифимических правдоподобий"
   ]
  },
  {
   "cell_type": "code",
   "execution_count": 9,
   "metadata": {},
   "outputs": [],
   "source": [
    "# for f in range(F):\n",
    "#     plt.plot(range(T), scores[f],'*')\n",
    "#     plt.plot([-1, 10], [0,0],'r')\n",
    "#     plt.xlim([-0.5, 9.5])\n",
    "#     plt.show()"
   ]
  },
  {
   "cell_type": "code",
   "execution_count": 10,
   "metadata": {},
   "outputs": [
    {
     "name": "stdout",
     "output_type": "stream",
     "text": [
      "(10, 1)           0\n",
      "0  3.083010\n",
      "1  2.384214\n",
      "2  3.177658\n",
      "3  1.126307\n",
      "4  2.378191\n",
      "5 -8.035880\n",
      "6  2.317721\n",
      "7  3.504556\n",
      "8  1.545498\n",
      "9  2.395714\n"
     ]
    },
    {
     "name": "stderr",
     "output_type": "stream",
     "text": [
      "/Users/sergmiller/Documents/code/python/FlightAnomaliesDetection/gaussian_mixture_anomaly_detection.py:172: FutureWarning: pd.ewm_mean is deprecated for DataFrame and will be removed in a future version, replace with \n",
      "\tDataFrame.ewm(com=2,min_periods=0,adjust=True,ignore_na=False).mean()\n",
      "  return np.array([np.array(pd.ewma(series, halflife)) for series in frames])\n"
     ]
    }
   ],
   "source": [
    "smoothed_scores = detector.smoothed_sample_anomalies(scores, halflife=2)"
   ]
  },
  {
   "cell_type": "code",
   "execution_count": null,
   "metadata": {
    "collapsed": true
   },
   "outputs": [],
   "source": []
  }
 ],
 "metadata": {
  "kernelspec": {
   "display_name": "Python [conda root]",
   "language": "python",
   "name": "conda-root-py"
  },
  "language_info": {
   "codemirror_mode": {
    "name": "ipython",
    "version": 3
   },
   "file_extension": ".py",
   "mimetype": "text/x-python",
   "name": "python",
   "nbconvert_exporter": "python",
   "pygments_lexer": "ipython3",
   "version": "3.6.3"
  }
 },
 "nbformat": 4,
 "nbformat_minor": 2
}
